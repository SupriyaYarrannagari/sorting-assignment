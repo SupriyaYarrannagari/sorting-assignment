{
 "cells": [
  {
   "cell_type": "code",
   "execution_count": 1,
   "id": "3451d172",
   "metadata": {},
   "outputs": [
    {
     "name": "stdout",
     "output_type": "stream",
     "text": [
      "The element appearing the maximum number of times is: 2\n"
     ]
    }
   ],
   "source": [
    "#Problem 1.Given an array of n numbers, give an algorithm which gives the element appearing maximum number of times?\n",
    "def find_max_appearing_element(arr):\n",
    "    element_counts = {}\n",
    "    for element in arr:\n",
    "        if element in element_counts:\n",
    "            element_counts[element] += 1\n",
    "        else:\n",
    "            element_counts[element] = 1\n",
    "    max_count = 0\n",
    "    max_element = None\n",
    "    for element, count in element_counts.items():\n",
    "        if count > max_count:\n",
    "            max_count = count\n",
    "            max_element = element\n",
    "    return max_element\n",
    "arr = [1, 2, 2, 3, 1, 4, 2]\n",
    "max_element = find_max_appearing_element(arr)\n",
    "print(f\"The element appearing the maximum number of times is: {max_element}\")  \n"
   ]
  },
  {
   "cell_type": "code",
   "execution_count": 4,
   "id": "123e3fe9",
   "metadata": {},
   "outputs": [
    {
     "name": "stdout",
     "output_type": "stream",
     "text": [
      "The missing number is: 5\n"
     ]
    }
   ],
   "source": [
    "#Problem 2 : We are given a list of n-1 integers and these integers are in the range of 1 to n . \n",
    "#There are no duplicates in the list. One of the integers is missing in the list. Give an algorithm to find that element \n",
    "def find_missing_number(arr):\n",
    "  n = len(arr) + 1  \n",
    "  expected_sum = n * (n + 1) // 2\n",
    "  list_sum = sum(arr)\n",
    "  return expected_sum - list_sum\n",
    "arr = [1, 2, 4, 6, 3, 7, 8]\n",
    "missing_number = find_missing_number(arr)\n",
    "print(f\"The missing number is: {missing_number}\")  "
   ]
  },
  {
   "cell_type": "code",
   "execution_count": 3,
   "id": "9b3a60cf",
   "metadata": {},
   "outputs": [
    {
     "name": "stdout",
     "output_type": "stream",
     "text": [
      "The number that appears an odd number of times is: 3\n"
     ]
    }
   ],
   "source": [
    "#Problem 3 : Given an array of n positive numbers. All numbers occurs even number of times except 1 which \n",
    "#occurs odd number of times. Find that number in O(n) time and O(1) space. Ex: [1,2,3,2,3,1,3]. 3 is repeats odd times.\n",
    "def find_odd_occurring_number(arr):\n",
    "  result = 0\n",
    "  for num in arr:\n",
    "    result ^= num\n",
    "  return result\n",
    "arr = [1, 2, 3, 2, 3, 1, 3]\n",
    "odd_number = find_odd_occurring_number(arr)\n",
    "print(f\"The number that appears an odd number of times is: {odd_number}\")  \n"
   ]
  },
  {
   "cell_type": "code",
   "execution_count": 4,
   "id": "32ab5f53",
   "metadata": {},
   "outputs": [
    {
     "name": "stdout",
     "output_type": "stream",
     "text": [
      "The pair that sums up to 9 is: [3, 6]\n"
     ]
    }
   ],
   "source": [
    "#Problem 4 : Given an array of n elements. Find two elements in the array such that their sum is equal to given element K.\n",
    "def find_sum_pair(arr, K):\n",
    "  seen = {}\n",
    "  for num in arr:\n",
    "    complement = K - num\n",
    "    if complement in seen:\n",
    "      return [num, complement]\n",
    "    seen[num] = True\n",
    "  return None\n",
    "\n",
    "arr = [1, 2, 4, 6, 3, 7, 8]\n",
    "K = 9\n",
    "pair = find_sum_pair(arr, K)\n",
    "print(f\"The pair that sums up to {K} is: {pair}\")  \n"
   ]
  },
  {
   "cell_type": "code",
   "execution_count": 5,
   "id": "525a5335",
   "metadata": {},
   "outputs": [
    {
     "name": "stdout",
     "output_type": "stream",
     "text": [
      "The pair with the closest sum to 0 is: (-80, 85)\n"
     ]
    }
   ],
   "source": [
    "#Problem 5 : Given an array of both positive and negative numbers, find two numbers such that their sum is closest to 0.\n",
    "def find_closest_sum_pair(arr):\n",
    "    arr.sort()  \n",
    "    left, right = 0, len(arr) - 1\n",
    "    closest_sum = float('inf')\n",
    "    closest_pair = None\n",
    "    while left < right:\n",
    "        current_sum = arr[left] + arr[right]\n",
    "        abs_diff = abs(current_sum)\n",
    "        if abs_diff < closest_sum:\n",
    "            closest_sum = abs_diff\n",
    "            closest_pair = (arr[left], arr[right])\n",
    "        if current_sum < 0:\n",
    "            left += 1\n",
    "        else:\n",
    "            right -= 1\n",
    "    return closest_pair\n",
    "arr = [1, 60, -10, 70, -80, 85]\n",
    "closest_pair = find_closest_sum_pair(arr.copy()) \n",
    "print(f\"The pair with the closest sum to 0 is: {closest_pair}\")  \n"
   ]
  },
  {
   "cell_type": "code",
   "execution_count": 2,
   "id": "0ffdf202",
   "metadata": {},
   "outputs": [
    {
     "name": "stdout",
     "output_type": "stream",
     "text": [
      "The triplet that sums up to 13 is: (1, 4, 8)\n"
     ]
    }
   ],
   "source": [
    "#Problem 6 : Given an array of n elements . Find three elements such that their sum is equal to the given number.\n",
    "def find_three_sum(arr, target_sum):\n",
    "    arr.sort()  \n",
    "    for i in range(len(arr) - 2):\n",
    "        left, right = i + 1, len(arr) - 1\n",
    "        while left < right:\n",
    "            current_sum = arr[i] + arr[left] + arr[right]\n",
    "            if current_sum == target_sum:\n",
    "                 return (arr[i], arr[left], arr[right])\n",
    "            elif current_sum < target_sum:\n",
    "                 left += 1\n",
    "            else:\n",
    "                 right -= 1\n",
    "    return None\n",
    "arr = [1, 2, 4, 6, 3, 7, 8]\n",
    "target_sum = 13\n",
    "triplet = find_three_sum(arr.copy(), target_sum)  \n",
    "print(f\"The triplet that sums up to {target_sum} is: {triplet}\")  \n"
   ]
  },
  {
   "cell_type": "code",
   "execution_count": 3,
   "id": "52a08ae6",
   "metadata": {},
   "outputs": [
    {
     "name": "stdout",
     "output_type": "stream",
     "text": [
      "No triplet found\n"
     ]
    }
   ],
   "source": [
    "#Problem 7 : Given an array of n elements . Find three elements i, j, k in the array such thati * i + j * j = k*k.\n",
    "def find_triplet_hashing(arr):\n",
    "    n = len(arr)\n",
    "    seen = {} \n",
    "    for i in range(n):\n",
    "        square = arr[i] * arr[i]\n",
    "        if square in seen:\n",
    "            return [seen[square], i, arr[i]]  \n",
    "        seen[square] = i\n",
    "    for j in range(n):\n",
    "        target = arr[j] * arr[j]\n",
    "        complement = target - arr[j] * arr[j]\n",
    "        if complement in seen:\n",
    "            return [seen[complement], j, arr[j]]  \n",
    "        return None  \n",
    "arr = [1, 2, 3, 4, 5]\n",
    "triplet = find_triplet_hashing(arr)\n",
    "if triplet:\n",
    "    print(\"Triplet found:\", triplet)\n",
    "else:\n",
    "    print(\"No triplet found\")\n"
   ]
  },
  {
   "cell_type": "code",
   "execution_count": 1,
   "id": "d375297b",
   "metadata": {},
   "outputs": [
    {
     "name": "stdout",
     "output_type": "stream",
     "text": [
      "No majority element found\n"
     ]
    }
   ],
   "source": [
    "#Problem 8 : An element is a majority if it appears more than n/2 times. Give an algorithm takes an array of n element as argument and identifies a majority (if it exists).\n",
    "def find_majority(arr):\n",
    "    n = len(arr)\n",
    "    count = 0\n",
    "    candidate = None\n",
    "    for i in range(n):\n",
    "        if count == 0:\n",
    "            candidate = arr[i]\n",
    "            count = 1\n",
    "        elif arr[i] == candidate:\n",
    "            count += 1\n",
    "        else:\n",
    "            count -= 1\n",
    "        count = 0\n",
    "        for num in arr:\n",
    "            if num == candidate:\n",
    "                count += 1\n",
    "\n",
    "        if count > n // 2:\n",
    "            return candidate\n",
    "        else:\n",
    "            return None\n",
    "arr = [1, 2, 3, 2, 2, 2, 1]\n",
    "majority_element = find_majority(arr)\n",
    "if majority_element:\n",
    "  print(\"Majority element:\", majority_element)\n",
    "else:\n",
    "  print(\"No majority element found\")\n"
   ]
  },
  {
   "cell_type": "code",
   "execution_count": 9,
   "id": "538b0afc",
   "metadata": {},
   "outputs": [
    {
     "name": "stdout",
     "output_type": "stream",
     "text": [
      "No row with all zeros found\n"
     ]
    }
   ],
   "source": [
    "#Problem 9 : Given n × n matrix, and in each row all 1’s are followed by 0’s. Find the row with the maximum number of 0’s.\n",
    "def find_row_with_max_zeros(matrix):\n",
    "    n = len(matrix)\n",
    "    max_zeros = 0\n",
    "    row_index = -1\n",
    "\n",
    "    for i in range(n):\n",
    "        count_zeros = 0\n",
    "        for j in range(len(matrix[i])):\n",
    "            if matrix[i][j] == 0:\n",
    "                count_zeros += 1\n",
    "            else:\n",
    "                break  \n",
    "        if count_zeros > max_zeros:\n",
    "            max_zeros = count_zeros\n",
    "            row_index = i\n",
    "        return row_index\n",
    "matrix = [\n",
    "  [1, 1, 1, 0, 0],\n",
    "  [1, 0, 1, 0, 1],\n",
    "  [1, 1, 0, 0, 0],\n",
    "  [0, 0, 0, 1, 1]\n",
    "]\n",
    "\n",
    "row_index = find_row_with_max_zeros(matrix)\n",
    "if row_index != -1:\n",
    "  print(\"Row with maximum zeros:\", row_index)\n",
    "else:\n",
    "  print(\"No row with all zeros found\")\n"
   ]
  },
  {
   "cell_type": "code",
   "execution_count": 7,
   "id": "4091a131",
   "metadata": {},
   "outputs": [
    {
     "name": "stdout",
     "output_type": "stream",
     "text": [
      "[0, 0, 0, 0, 0, 1, 1, 1, 1, 1, 2, 2]\n"
     ]
    }
   ],
   "source": [
    "#Problem 10 : Sort an array of 0’s, 1’s and 2’s [or R’s, G’s and B’s]: Given an array A[] consisting of 0’s, 1’s and 2’s, give an algorithm for sorting A[].The algorithm should put all 0’s first, then all 1’s and finally all 2’s at the end. \n",
    "def sort_012(arr):\n",
    "    low = 0\n",
    "    mid = 0\n",
    "    high = len(arr) - 1\n",
    "\n",
    "    while mid <= high:\n",
    "        if arr[mid] == 0:\n",
    "            arr[low], arr[mid] = arr[mid], arr[low]\n",
    "            low += 1\n",
    "            mid += 1\n",
    "        elif arr[mid] == 1:\n",
    "            mid += 1\n",
    "        else:\n",
    "            arr[mid], arr[high] = arr[high], arr[mid]\n",
    "            high -= 1\n",
    "arr = [0, 1, 1, 0, 1, 2, 1, 2, 0, 0, 0, 1]\n",
    "sort_012(arr)\n",
    "print(arr) \n",
    "\n"
   ]
  },
  {
   "cell_type": "code",
   "execution_count": null,
   "id": "c58d65ca",
   "metadata": {},
   "outputs": [],
   "source": []
  },
  {
   "cell_type": "code",
   "execution_count": null,
   "id": "a03c253b",
   "metadata": {},
   "outputs": [],
   "source": []
  }
 ],
 "metadata": {
  "kernelspec": {
   "display_name": "Python 3 (ipykernel)",
   "language": "python",
   "name": "python3"
  },
  "language_info": {
   "codemirror_mode": {
    "name": "ipython",
    "version": 3
   },
   "file_extension": ".py",
   "mimetype": "text/x-python",
   "name": "python",
   "nbconvert_exporter": "python",
   "pygments_lexer": "ipython3",
   "version": "3.10.9"
  }
 },
 "nbformat": 4,
 "nbformat_minor": 5
}
